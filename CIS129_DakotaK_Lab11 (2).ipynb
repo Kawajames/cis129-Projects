{
 "cells": [
  {
   "cell_type": "code",
   "execution_count": null,
   "metadata": {},
   "outputs": [],
   "source": [
    "# CIS129_DakotaK_Lab11.ipynb\n",
    "# Dakota Kartchner\n",
    "# 11/13/2024\n",
    "# CIS129 Prog and Problem Solving"
   ]
  },
  {
   "cell_type": "code",
   "execution_count": null,
   "metadata": {},
   "outputs": [],
   "source": [
    "# Directory Tester\n",
    "import os\n",
    "\n",
    "desktop_path = r\"C:\\Users\\Dakota\\Desktop\" # This is the directory\n",
    "\n",
    "os.chdir(desktop_path)  # Change to the Desktop directory\n",
    "print(f\"Current working directory: {os.getcwd()}\")  # Confirms that the new directory is working"
   ]
  },
  {
   "cell_type": "code",
   "execution_count": null,
   "metadata": {},
   "outputs": [],
   "source": [
    "# 9.1 Class Average: Writing Grades to a Plain Text File\n",
    "\n",
    "with open('grades.txt', mode='w') as grades_file:\n",
    "    print(\"Enter grades, one per line. Enter '-1' to stop.\")\n",
    "    while True:\n",
    "        grade = input(\"Enter grade: \")\n",
    "        if grade == '-1':  # Stop input if -1 is entered\n",
    "            break\n",
    "        grades_file.write(f\"{grade}\\n\")  # Write each grade to the text file\n",
    "    print(\"Grades successfully written to grades.txt.\")"
   ]
  },
  {
   "cell_type": "code",
   "execution_count": null,
   "metadata": {},
   "outputs": [],
   "source": [
    "# 9.2 Class Average: Reading Grades from a Plain Text File\n",
    "\n",
    "with open('grades.txt', mode='r') as grades_file:\n",
    "    grades = [int(line.strip()) for line in grades_file]  # Read and convert to integers if not already\n",
    "\n",
    "# Display the grades, total, count, and average\n",
    "print(\"Grades:\")\n",
    "for grade in grades:\n",
    "    print(grade)\n",
    "    \n",
    "total = sum(grades)\n",
    "count = len(grades)\n",
    "average = total / count if count != 0 else 0  # Data validation, avoid division by zero\n",
    "\n",
    "print(f\"\\nTotal: {total}\")\n",
    "print(f\"Count: {count}\")\n",
    "print(f\"Average: {average:.2f}\")"
   ]
  },
  {
   "cell_type": "code",
   "execution_count": null,
   "metadata": {},
   "outputs": [],
   "source": [
    "# 9.3 Class Average: Writing Student Records to a CSV File\n",
    "\n",
    "import csv\n",
    "\n",
    "# Writing student records to a CSV file (Excel)\n",
    "with open('grades.csv', mode='w', newline='') as grades_csv:\n",
    "    writer = csv.writer(grades_csv)\n",
    "    print(\"Enter student records. Enter '-1' as the first name to stop.\")\n",
    "    writer.writerow([\"FirstName\", \"LastName\", \"Exam1\", \"Exam2\", \"Exam3\"])  # Header row (row title)\n",
    "    \n",
    "    while True:\n",
    "        first_name = input(\"Enter first name: \")\n",
    "        if first_name == '-1':  # Stop input if -1 is entered\n",
    "            break\n",
    "        last_name = input(\"Enter last name: \")\n",
    "        exam1 = int(input(\"Enter exam 1 grade: \"))\n",
    "        exam2 = int(input(\"Enter exam 2 grade: \"))\n",
    "        exam3 = int(input(\"Enter exam 3 grade: \"))\n",
    "        \n",
    "        writer.writerow([first_name, last_name, exam1, exam2, exam3])  # Write record\n",
    "    print(\"Student records successfully written to grades.csv.\")"
   ]
  }
 ],
 "metadata": {
  "kernelspec": {
   "display_name": "Python 3",
   "language": "python",
   "name": "python3"
  },
  "language_info": {
   "codemirror_mode": {
    "name": "ipython",
    "version": 3
   },
   "file_extension": ".py",
   "mimetype": "text/x-python",
   "name": "python",
   "nbconvert_exporter": "python",
   "pygments_lexer": "ipython3",
   "version": "3.12.4"
  }
 },
 "nbformat": 4,
 "nbformat_minor": 2
}
